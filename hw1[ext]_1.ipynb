{
 "cells": [
  {
   "cell_type": "markdown",
   "metadata": {},
   "source": [
    "# HW 1_EXT part 1 char recognition\n",
    "## sajjad pakdaman --------------- 810195517"
   ]
  },
  {
   "cell_type": "code",
   "execution_count": 1,
   "metadata": {},
   "outputs": [],
   "source": [
    "from char_recognition import *"
   ]
  },
  {
   "cell_type": "markdown",
   "metadata": {},
   "source": [
    "read data"
   ]
  },
  {
   "cell_type": "code",
   "execution_count": 2,
   "metadata": {},
   "outputs": [],
   "source": [
    "f_train , l_train = read_train_file()"
   ]
  },
  {
   "cell_type": "markdown",
   "metadata": {},
   "source": [
    "train"
   ]
  },
  {
   "cell_type": "code",
   "execution_count": 9,
   "metadata": {},
   "outputs": [
    {
     "name": "stderr",
     "output_type": "stream",
     "text": "0%|          | 0/20000 [00:00<?, ?it/s]\nThe Neural Network has been trained in 4 epochs.\naccuracy on train data is1.0\n\n"
    }
   ],
   "source": [
    "layer = Perceptorn(l_train.shape[1], f_train.shape[1])\n",
    "optim = Optimizer(layer)\n",
    "optim.train(f_train, l_train)\n",
    "\n",
    "print(\"\\nThe Neural Network has been trained in \" + str(optim.epoch) + \" epochs.\")\n",
    "print(f'accuracy on train data is{optim.test(f_train, l_train)}')"
   ]
  },
  {
   "cell_type": "markdown",
   "metadata": {},
   "source": [
    "test"
   ]
  },
  {
   "cell_type": "code",
   "execution_count": 10,
   "metadata": {},
   "outputs": [
    {
     "name": "stdout",
     "output_type": "stream",
     "text": "\n\nPercent of Error in NN: 0.2571428571428571\n"
    }
   ],
   "source": [
    "f_test , l_test = read_train_file(file='OCR_test.txt')\n",
    "\n",
    "print(\"\\n\\nPercent of Error in NN: \" + str(1-optim.test(f_test, l_test)))"
   ]
  },
  {
   "cell_type": "code",
   "execution_count": null,
   "metadata": {},
   "outputs": [],
   "source": []
  }
 ],
 "metadata": {
  "kernelspec": {
   "display_name": "Python 3.6.9 64-bit",
   "language": "python",
   "name": "python36964bitae6bcd7af2dc4b81904c234ce8c6d427"
  },
  "language_info": {
   "codemirror_mode": {
    "name": "ipython",
    "version": 3
   },
   "file_extension": ".py",
   "mimetype": "text/x-python",
   "name": "python",
   "nbconvert_exporter": "python",
   "pygments_lexer": "ipython3",
   "version": "3.6.9-final"
  }
 },
 "nbformat": 4,
 "nbformat_minor": 4
}